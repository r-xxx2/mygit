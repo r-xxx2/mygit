{
 "cells": [
  {
   "cell_type": "code",
   "execution_count": 1,
   "id": "f8ea0f69",
   "metadata": {},
   "outputs": [
    {
     "name": "stdout",
     "output_type": "stream",
     "text": [
      "私は東京生まれ、HIPHOP育ち\n"
     ]
    }
   ],
   "source": [
    "print(\"私は{}生まれ、{}育ち\".format(\"東京\", \"HIPHOP\"))"
   ]
  },
  {
   "cell_type": "code",
   "execution_count": 2,
   "id": "75b4bc42",
   "metadata": {},
   "outputs": [
    {
     "name": "stdout",
     "output_type": "stream",
     "text": [
      "バナナは黄色色です\n"
     ]
    }
   ],
   "source": [
    "banana = \"バナナ\"\n",
    "yellow = \"黄色\"\n",
    "\n",
    "print(f\"{banana}は{yellow}色です\")"
   ]
  },
  {
   "cell_type": "code",
   "execution_count": 3,
   "id": "17b2c103",
   "metadata": {},
   "outputs": [
    {
     "name": "stdout",
     "output_type": "stream",
     "text": [
      "5\n",
      "3\n"
     ]
    }
   ],
   "source": [
    "#深層学習　P.138\n",
    "n = [3, 6, 8, 6, 3, 2, 4, 6]\n",
    "\n",
    "print(n.index(2))\n",
    "print(n.count(6))"
   ]
  },
  {
   "cell_type": "code",
   "execution_count": 4,
   "id": "660096cf",
   "metadata": {},
   "outputs": [
    {
     "name": "stdout",
     "output_type": "stream",
     "text": [
      "['a', 'b', 'c', 'd', 'e']\n"
     ]
    }
   ],
   "source": [
    "list = [\"a\",\"e\",\"c\",\"b\",\"d\"]\n",
    "\n",
    "list.sort()\n",
    "print(list)"
   ]
  },
  {
   "cell_type": "code",
   "execution_count": 5,
   "id": "d442adf3",
   "metadata": {},
   "outputs": [
    {
     "name": "stdout",
     "output_type": "stream",
     "text": [
      "['e', 'd', 'c', 'b', 'a']\n"
     ]
    }
   ],
   "source": [
    "list.reverse()\n",
    "print(list)"
   ]
  },
  {
   "cell_type": "code",
   "execution_count": 6,
   "id": "38f4c320",
   "metadata": {},
   "outputs": [
    {
     "name": "stdout",
     "output_type": "stream",
     "text": [
      "[2, 24, 26, 37, 53, 69]\n"
     ]
    }
   ],
   "source": [
    "n = [53, 26, 37, 69, 24, 2]\n",
    "\n",
    "n.sort()\n",
    "print(n)"
   ]
  },
  {
   "cell_type": "code",
   "execution_count": 7,
   "id": "f5b1d20b",
   "metadata": {},
   "outputs": [
    {
     "ename": "SyntaxError",
     "evalue": "invalid character in identifier (<ipython-input-7-177f74ffb049>, line 6)",
     "output_type": "error",
     "traceback": [
      "\u001b[1;36m  File \u001b[1;32m\"<ipython-input-7-177f74ffb049>\"\u001b[1;36m, line \u001b[1;32m6\u001b[0m\n\u001b[1;33m    ​\u001b[0m\n\u001b[1;37m    ^\u001b[0m\n\u001b[1;31mSyntaxError\u001b[0m\u001b[1;31m:\u001b[0m invalid character in identifier\n"
     ]
    }
   ],
   "source": [
    "n.reverse()['e', 'd', 'c', 'b', 'a']\n",
    "n\n",
    "1\n",
    "n = [53, 26, 37, 69, 24, 2]\n",
    "2\n",
    "​\n",
    "3\n",
    "n.sort()\n",
    "4\n",
    "print(n)\n",
    "[2, 24, 26, 37, 53, 69]\n",
    "n\n",
    "1\n",
    "n.reverse()\n",
    "2\n",
    "print(n)\n",
    "[69, 53, 37, 26, 24, 2]\n",
    "1\n",
    "​\n",
    "print(n)"
   ]
  },
  {
   "cell_type": "markdown",
   "id": "fc5d2b81",
   "metadata": {},
   "source": []
  },
  {
   "cell_type": "code",
   "execution_count": null,
   "id": "2c75e35c",
   "metadata": {},
   "outputs": [],
   "source": []
  },
  {
   "cell_type": "code",
   "execution_count": null,
   "id": "aa2ba33a",
   "metadata": {
    "scrolled": true
   },
   "outputs": [],
   "source": [
    "list = [1, 10, 2, 20]\n",
    "list.sort(reverse=True) #値として降順になる\n",
    "print(list)"
   ]
  },
  {
   "cell_type": "code",
   "execution_count": null,
   "id": "6d521615",
   "metadata": {},
   "outputs": [],
   "source": [
    "list = [1, 10, 2, 20]\n",
    "list.reverse() #単に後ろから並ぶ\n",
    "print(list)"
   ]
  },
  {
   "cell_type": "code",
   "execution_count": null,
   "id": "aba746b1",
   "metadata": {},
   "outputs": [],
   "source": [
    "list = [1, 10, 2, 20]\n",
    "print(sorted(list)) #ここで並び替えてるだけで元のリストはそのまま\n",
    "print(list)"
   ]
  },
  {
   "cell_type": "code",
   "execution_count": null,
   "id": "063091ed",
   "metadata": {},
   "outputs": [],
   "source": [
    "list = [1, 10, 2, 20]\n",
    "print(sorted(list,reverse=True)) #ここで並び替えてるだけで元のリストはそのまま\n",
    "print(list)"
   ]
  },
  {
   "cell_type": "code",
   "execution_count": null,
   "id": "66991c97",
   "metadata": {},
   "outputs": [],
   "source": [
    "def introduce():\n",
    "    print(\"Yamadaです\")\n",
    "\n",
    "introduce()\n",
    "\n",
    "    "
   ]
  },
  {
   "cell_type": "code",
   "execution_count": null,
   "id": "2f180191",
   "metadata": {},
   "outputs": [],
   "source": [
    "def introduce(n):\n",
    "    print(n + \"です\")\n",
    "    \n",
    "introduce(\"ryusuke\")"
   ]
  },
  {
   "cell_type": "code",
   "execution_count": null,
   "id": "0bab8436",
   "metadata": {},
   "outputs": [],
   "source": [
    "def cube_cal(n):\n",
    "    print(n ** 3)\n",
    "    \n",
    "cube_cal(4)"
   ]
  },
  {
   "cell_type": "code",
   "execution_count": null,
   "id": "b74ebac3",
   "metadata": {},
   "outputs": [],
   "source": [
    "def introduce(first,last):\n",
    "    print(f\"名字は{last}で、名前は{first}です\")\n",
    "    \n",
    "name = input(\"名前を入力してください\")\n",
    "\n",
    "\n",
    "introduce(\"隆介\",name)"
   ]
  },
  {
   "cell_type": "code",
   "execution_count": null,
   "id": "da1f3131",
   "metadata": {},
   "outputs": [],
   "source": [
    "def introduce(age, n = \"yamada\"):\n",
    "    print(n + \"です\" +str(age) + \"歳です\")\n",
    "    \n",
    "introduce(18)"
   ]
  },
  {
   "cell_type": "code",
   "execution_count": 14,
   "id": "c1a95cd1",
   "metadata": {},
   "outputs": [
    {
     "name": "stdout",
     "output_type": "stream",
     "text": [
      "身長：1.81\n",
      "体重：62\n",
      "<class 'float'>\n",
      "18.924941241109856\n"
     ]
    }
   ],
   "source": [
    "def bmi (height, weight):\n",
    "    return weight/height**2\n",
    "\n",
    "hi = input(\"身長：\")\n",
    "we = input(\"体重：\")\n",
    "\n",
    "Height = float(hi)\n",
    "Weight = int(we)\n",
    "\n",
    "print(type(Height))\n",
    "\n",
    "print(bmi(Height, Weight))"
   ]
  },
  {
   "cell_type": "code",
   "execution_count": null,
   "id": "533fc444",
   "metadata": {},
   "outputs": [],
   "source": [
    "type(hi)"
   ]
  },
  {
   "cell_type": "code",
   "execution_count": null,
   "id": "892fe62a",
   "metadata": {},
   "outputs": [],
   "source": [
    "print(Height)"
   ]
  },
  {
   "cell_type": "code",
   "execution_count": null,
   "id": "dccbe500",
   "metadata": {},
   "outputs": [],
   "source": [
    "#うるう年か調べるコード\n",
    "\n",
    "year = input(\"西暦を入力してください\")\n",
    "\n",
    "yyyy = int(year)\n",
    "\n",
    "if yyyy % 100 == 0 and yyyy % 400 != 0:\n",
    "    print(year+\"は平年です\")\n",
    "\n",
    "elif yyyy % 4 == 0:\n",
    "    print(year+\"はうるう年です\")\n",
    "    \n",
    "else:\n",
    "    print(year+\"は平年です\")"
   ]
  },
  {
   "cell_type": "code",
   "execution_count": null,
   "id": "e1e87579",
   "metadata": {},
   "outputs": [],
   "source": [
    "def uru(yyyy):\n",
    "    if yyyy % 100 == 0 and yyyy % 400 != 0:\n",
    "        flg = 0\n",
    "    elif yyyy % 4 == 0:\n",
    "        flg = 1\n",
    "    else:\n",
    "        flg= 0\n",
    "    return flg\n",
    "\n",
    "YYYY = input(\"西暦を入力してください\")\n",
    "kekka = uru(int(YYYY))\n",
    "if kekka == 0:\n",
    "    print(f\"{YYYY}は平年です\")\n",
    "else:\n",
    "    print(f\"{YYYY}はうるう年です\")\n",
    "    \n"
   ]
  },
  {
   "cell_type": "code",
   "execution_count": null,
   "id": "b04a7697",
   "metadata": {},
   "outputs": [],
   "source": [
    "class MyProduct:\n",
    "    def __init__ (self, name, price, stock):\n",
    "        self.name = name\n",
    "        self.price = price\n",
    "        self.stock = stock\n",
    "        self.sales = 0\n",
    "        \n",
    "    product_1 = MyProduct(\"cake\", 500, 20)\n",
    "    print(product_1.stock)\n",
    "\n",
    "\n",
    "\n",
    "    def summary(self):\n",
    "        message = \"called summary().\" + \\\n",
    "        \"\\n name: \" + self.get_name() + \\\n",
    "        \"\\n price: \"+ str(self.price) + \\\n",
    "        \"\\n stock: \"+ str(self.stock) + \\\n",
    "        \"\\n sales: \"+ str(self.sales)\n",
    "\n",
    "        print(message)\n",
    "\n",
    "    #nameを返すget_name()を作成してください\n",
    "    def get_name(self):\n",
    "        return self.name\n",
    "\n",
    "\n",
    "    #引数分だけpriceを減らすdiscount()を作成してください\n",
    "    def discount(self, n):\n",
    "        self.price -= n\n",
    "\n",
    "    \n",
    "product_2 = MyProduct(\"phone\", 30000, 100)\n",
    "\n",
    "#5,000円だけdiscountしてください\n",
    "product_2.discount(5000)\n",
    "\n",
    "\n",
    "#product_2のsummaryを出力してください。\n",
    "product_2.summary()    \n",
    "    \n",
    "    \n",
    "    \n",
    "        \n"
   ]
  },
  {
   "cell_type": "code",
   "execution_count": 8,
   "id": "2d9e3ab2",
   "metadata": {},
   "outputs": [
    {
     "name": "stdout",
     "output_type": "stream",
     "text": [
      "phone(税込)\n",
      "33000\n"
     ]
    },
    {
     "ename": "AttributeError",
     "evalue": "'MyProductSalesTax' object has no attribute 'get_pirce_with_tax'",
     "output_type": "error",
     "traceback": [
      "\u001b[1;31m---------------------------------------------------------------------------\u001b[0m",
      "\u001b[1;31mAttributeError\u001b[0m                            Traceback (most recent call last)",
      "\u001b[1;32m<ipython-input-8-8a30536b483e>\u001b[0m in \u001b[0;36m<module>\u001b[1;34m\u001b[0m\n\u001b[0;32m     48\u001b[0m \u001b[0mprint\u001b[0m\u001b[1;33m(\u001b[0m\u001b[0mproduct_3\u001b[0m\u001b[1;33m.\u001b[0m\u001b[0mget_name\u001b[0m\u001b[1;33m(\u001b[0m\u001b[1;33m)\u001b[0m\u001b[1;33m)\u001b[0m\u001b[1;33m\u001b[0m\u001b[1;33m\u001b[0m\u001b[0m\n\u001b[0;32m     49\u001b[0m \u001b[0mprint\u001b[0m\u001b[1;33m(\u001b[0m\u001b[0mproduct_3\u001b[0m\u001b[1;33m.\u001b[0m\u001b[0mget_price_with_tax\u001b[0m\u001b[1;33m(\u001b[0m\u001b[1;33m)\u001b[0m\u001b[1;33m)\u001b[0m\u001b[1;33m\u001b[0m\u001b[1;33m\u001b[0m\u001b[0m\n\u001b[1;32m---> 50\u001b[1;33m \u001b[0mproduct_3\u001b[0m\u001b[1;33m.\u001b[0m\u001b[0msummary\u001b[0m\u001b[1;33m(\u001b[0m\u001b[1;33m)\u001b[0m\u001b[1;33m\u001b[0m\u001b[1;33m\u001b[0m\u001b[0m\n\u001b[0m",
      "\u001b[1;32m<ipython-input-8-8a30536b483e>\u001b[0m in \u001b[0;36msummary\u001b[1;34m(self)\u001b[0m\n\u001b[0;32m     42\u001b[0m                     \u001b[1;34m\"\\n price: \"\u001b[0m \u001b[1;33m+\u001b[0m \u001b[0mstr\u001b[0m\u001b[1;33m(\u001b[0m\u001b[0mself\u001b[0m\u001b[1;33m.\u001b[0m\u001b[0mget_pirce_with_tax\u001b[0m\u001b[1;33m(\u001b[0m\u001b[1;33m)\u001b[0m\u001b[1;33m+\u001b[0m\u001b[1;36m0\u001b[0m\u001b[1;33m)\u001b[0m \u001b[1;33m+\u001b[0m\u001b[0;31m \u001b[0m\u001b[0;31m\\\u001b[0m\u001b[1;33m\u001b[0m\u001b[1;33m\u001b[0m\u001b[0m\n\u001b[0;32m     43\u001b[0m                     \u001b[1;34m\"\\n stock: \"\u001b[0m \u001b[1;33m+\u001b[0m \u001b[0mstr\u001b[0m\u001b[1;33m(\u001b[0m\u001b[0mself\u001b[0m\u001b[1;33m.\u001b[0m\u001b[0mstock\u001b[0m\u001b[1;33m)\u001b[0m \u001b[1;33m+\u001b[0m\u001b[0;31m \u001b[0m\u001b[0;31m\\\u001b[0m\u001b[1;33m\u001b[0m\u001b[1;33m\u001b[0m\u001b[0m\n\u001b[1;32m---> 44\u001b[1;33m                     \u001b[1;34m\"\\n sales: \"\u001b[0m \u001b[1;33m+\u001b[0m \u001b[0mstr\u001b[0m\u001b[1;33m(\u001b[0m\u001b[0mself\u001b[0m\u001b[1;33m.\u001b[0m\u001b[0msales\u001b[0m\u001b[1;33m)\u001b[0m\u001b[1;33m\u001b[0m\u001b[1;33m\u001b[0m\u001b[0m\n\u001b[0m\u001b[0;32m     45\u001b[0m         \u001b[0mprint\u001b[0m\u001b[1;33m(\u001b[0m\u001b[0mmessage\u001b[0m\u001b[1;33m)\u001b[0m\u001b[1;33m\u001b[0m\u001b[1;33m\u001b[0m\u001b[0m\n\u001b[0;32m     46\u001b[0m \u001b[1;33m\u001b[0m\u001b[0m\n",
      "\u001b[1;31mAttributeError\u001b[0m: 'MyProductSalesTax' object has no attribute 'get_pirce_with_tax'"
     ]
    }
   ],
   "source": [
    "class MyProduct:\n",
    "    def __init__(self, name, price, stock):\n",
    "        self.name = name\n",
    "        self.price = price\n",
    "        self.stock = stock\n",
    "        self.sales = 0\n",
    "\n",
    "    def summary(self):\n",
    "        message = \"called summary().\\n name: \" + self.get_name() + \\\n",
    "                    \"\\n price: \" + str(self.price) + \\\n",
    "                    \"\\n stock: \" + str(self.stock) + \\\n",
    "                    \"\\n sales: \" + str(self.sales)\n",
    "        print(message)\n",
    "\n",
    "    def get_name(self):\n",
    "        return self.name\n",
    "\n",
    "    def discount(self, n):\n",
    "        self.price -= n\n",
    "\n",
    "\n",
    "class MyProductSalesTax(MyProduct):\n",
    "    # MyProductSalesTaxでは第四引数に消費税率を受け取ることにします\n",
    "    def __init__(self, name, price, stock, tax_rate):\n",
    "        \n",
    "        # super()を使うと親クラスのメソッドを呼び出すことができます\n",
    "        # ここでは、MyProductクラスのコンストラクタを呼び出しています\n",
    "        super().__init__(name, price, stock)\n",
    "        self.tax_rate = tax_rate\n",
    "\n",
    "    # MyProductSalesTaxではMyProductのget_nameをオーバーライド（上書き）します\n",
    "    def get_name(self):\n",
    "        return self.name + \"(税込)\"\n",
    " \n",
    "    # MyProductSalesTaxにget_price_with_taxを新規実装します\n",
    "    def get_price_with_tax(self):\n",
    "        return int(self.price * (1 + self.tax_rate))\n",
    "    \n",
    "    # MyProductのsummaryメソッドをオーバーライドしてsummaryが税込み価格を出力するようにしてください\n",
    "    def summary(self):\n",
    "        message = \"called summary().\\n name: \" + self.get_name() + \\\n",
    "                    \"\\n price: \" + str(self.get_pirce_with_tax()+0) + \\\n",
    "                    \"\\n stock: \" + str(self.stock) + \\\n",
    "                    \"\\n sales: \" + str(self.sales)\n",
    "        print(message)\n",
    "\n",
    "product_3 = MyProductSalesTax(\"phone\", 30000, 100, 0.1)\n",
    "print(product_3.get_name())\n",
    "print(product_3.get_price_with_tax())\n",
    "product_3.summary()"
   ]
  },
  {
   "cell_type": "code",
   "execution_count": 15,
   "id": "a7da8f7e",
   "metadata": {},
   "outputs": [
    {
     "name": "stdout",
     "output_type": "stream",
     "text": [
      "bmiは18.9249です。\n",
      "bmiは18です。\n",
      "bmiは18.9です。\n"
     ]
    }
   ],
   "source": [
    "def bmi(h, w):\n",
    "    return w / h**2\n",
    "\n",
    "print(\"bmiは%.4fです。\" % bmi(1.81, 62))\n",
    "print(\"bmiは%.dです。\" % bmi(1.81, 62))\n",
    "print(\"bmiは%.1fです。\" % bmi(1.81, 62))"
   ]
  },
  {
   "cell_type": "markdown",
   "id": "304b1d89",
   "metadata": {},
   "source": [
    "問題"
   ]
  }
 ],
 "metadata": {
  "kernelspec": {
   "display_name": "Python 3",
   "language": "python",
   "name": "python3"
  },
  "language_info": {
   "codemirror_mode": {
    "name": "ipython",
    "version": 3
   },
   "file_extension": ".py",
   "mimetype": "text/x-python",
   "name": "python",
   "nbconvert_exporter": "python",
   "pygments_lexer": "ipython3",
   "version": "3.7.6"
  }
 },
 "nbformat": 4,
 "nbformat_minor": 5
}
